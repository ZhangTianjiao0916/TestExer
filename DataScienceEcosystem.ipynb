{
 "cells": [
  {
   "cell_type": "markdown",
   "id": "c2e1383d-e78a-4517-9072-c419e4a0abf9",
   "metadata": {},
   "source": [
    "# Data Science Tools and Ecosystem"
   ]
  },
  {
   "cell_type": "markdown",
   "id": "28f411e7-90ff-4897-a00b-c9cca0b3724c",
   "metadata": {},
   "source": [
    "In this notebook, Data Science Tools and Ecosystem are summarized."
   ]
  },
  {
   "cell_type": "markdown",
   "id": "947ee0b7-bdc0-46c4-97ea-862de605ce37",
   "metadata": {},
   "source": [
    "##### Objectives:\n",
    "* List popular languages for Data Science\n",
    "* List popular labraries for Data Science\n",
    "* A table of Data Science tools\n",
    "* Introducing arithmetic expression examples\n",
    "* Convert minutes to hours"
   ]
  },
  {
   "cell_type": "markdown",
   "id": "a89c2b85-c0bf-4cba-902f-20bad310e4b4",
   "metadata": {},
   "source": [
    "Some of the popular languages that Data Scientists use are:\n",
    "1. Python\n",
    "2. R\n",
    "3. SQL"
   ]
  },
  {
   "cell_type": "markdown",
   "id": "5de86593-a9ee-4091-9bdb-06692f4679f8",
   "metadata": {},
   "source": [
    "Some of the commonly used libraries used by Data Scientists include:\n",
    "1. NumPy\n",
    "2. Pandas\n",
    "3. SciPy"
   ]
  },
  {
   "cell_type": "markdown",
   "id": "d5046237-8f1b-4fa4-860c-e62c1b82cedc",
   "metadata": {},
   "source": [
    "|Data Science Tools|\n",
    "|------------------|\n",
    "|Jupyter Notebooks|\n",
    "|Rstudio|\n",
    "|GitHub|"
   ]
  },
  {
   "cell_type": "markdown",
   "id": "86102ccf-6bbb-4331-84fd-cf24d2d20a80",
   "metadata": {},
   "source": [
    "### Below are a few examples of evaluating arithmetic expressions in Python"
   ]
  },
  {
   "cell_type": "code",
   "execution_count": 4,
   "id": "6939c438-c286-4b62-bb4b-25fb61527d59",
   "metadata": {},
   "outputs": [
    {
     "data": {
      "text/plain": [
       "17"
      ]
     },
     "execution_count": 4,
     "metadata": {},
     "output_type": "execute_result"
    }
   ],
   "source": [
    "# This a simple arithmetic expression to mutiply then add integers\n",
    "(3*4)+5"
   ]
  },
  {
   "cell_type": "code",
   "execution_count": 7,
   "id": "fae28dae-70e8-4314-93e2-d38f3354cb04",
   "metadata": {},
   "outputs": [
    {
     "data": {
      "text/plain": [
       "3"
      ]
     },
     "execution_count": 7,
     "metadata": {},
     "output_type": "execute_result"
    }
   ],
   "source": [
    "#This will convert 200 minutes to hours by diving by 60\n",
    "200//60"
   ]
  },
  {
   "cell_type": "markdown",
   "id": "ae0bb9ea-e153-430b-85ad-d48853468764",
   "metadata": {},
   "source": [
    "## Author\n",
    "Zhang Tianjiao"
   ]
  },
  {
   "cell_type": "code",
   "execution_count": null,
   "id": "aefcba3e-9c9c-49ae-a30b-bb054d0b99f7",
   "metadata": {},
   "outputs": [],
   "source": []
  }
 ],
 "metadata": {
  "kernelspec": {
   "display_name": "Python 3 (ipykernel)",
   "language": "python",
   "name": "python3"
  },
  "language_info": {
   "codemirror_mode": {
    "name": "ipython",
    "version": 3
   },
   "file_extension": ".py",
   "mimetype": "text/x-python",
   "name": "python",
   "nbconvert_exporter": "python",
   "pygments_lexer": "ipython3",
   "version": "3.8.2"
  }
 },
 "nbformat": 4,
 "nbformat_minor": 5
}
